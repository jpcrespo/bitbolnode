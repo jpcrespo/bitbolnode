{
 "cells": [
  {
   "cell_type": "code",
   "execution_count": 125,
   "metadata": {},
   "outputs": [
    {
     "name": "stdout",
     "output_type": "stream",
     "text": [
      "autentificación - Twitter API\n",
      "sesión iniciada\n"
     ]
    }
   ],
   "source": [
    "from twlogin import login\n",
    "from tools import blockclock, precio , btc_supply, hash_rate, fees\n",
    "import numpy as np\n",
    "\n",
    "p1 = ''\n",
    "api = login(path=p1)\t\n",
    "\n",
    "\n",
    "def execute(order):\n",
    "   txt = order._json['full_text'].lower()\n",
    "   txt_split= txt.split(\" \")    #cambia este valor segun el nombre @user\n",
    "   for word in txt_split:\n",
    "      if word in ['blockclock','btcclock','btc_clock','clock','tic']:\n",
    "         api.update_status(status='@'+order._json['user']['screen_name']+' '+blockclock(),in_reply_to_status_id=order._json['id_str'],auto_populate_reply_metadata=True)\n",
    "         return order._json['id_str']\n",
    "      elif word in ['btc_supply','supply','emitido','btc_emitido','btc_emision','emision','emision_btc']:\n",
    "         api.update_status(status='@'+order._json['user']['screen_name']+' '+btc_supply(),in_reply_to_status_id=order._json['id_str'],auto_populate_reply_metadata=True)\n",
    "         return order._json['id_str']\n",
    "      elif word in ['hash_rate','hash-rate']:\n",
    "         api.update_status(status='@'+order._json['user']['screen_name']+' '+hash_rate(),in_reply_to_status_id=order._json['id_str'],auto_populate_reply_metadata=True)\n",
    "         return order._json['id_str']\n",
    "      elif word == 'fees':\n",
    "         api.update_status(status='@'+order._json['user']['screen_name']+' '+fees(),in_reply_to_status_id=order._json['id_str'],auto_populate_reply_metadata=True)\n",
    "         return order._json['id_str']\n",
    "      elif word in ['precio','btc_price','bitcoin_precio']:\n",
    "         api.update_status(status='@'+order._json['user']['screen_name']+' '+precio(),in_reply_to_status_id=order._json['id_str'],auto_populate_reply_metadata=True)\n",
    "         return order._json['id_str']\n",
    "         #retorna el id donde responde, o False en caso de que no haya un comando.\n",
    "   return False\n",
    "\n",
    "\n",
    "\n",
    "# A diferencia de otros métodos, este obtiene las ultimas 20 menciones\n",
    "# incluidos rt sin Cursor. Se puede modificar la recuperación de 20 dependiento de \n",
    "# la fecha de inicio y fin de la búsqueda. \n",
    "\n",
    "# Para controlar un flujo y evitar responder menciones repetidas, usamos un archivo\n",
    "# externo para almacenar el id de las menciones anteriores. Por facilidad en recuperar\n",
    "# y escribir un log usamos numpy y .npy \n",
    "\n",
    "def first_up(path=''):\n",
    "   #la primera vez que se ejecuta el bot, verifica si existe un log.\n",
    "   #En caso de que no, realiza el analisis:\n",
    "   ids = [] #en esta variable guardamos id de respuestas para el log\n",
    "   #recopila las últimas 20 menciones\n",
    "   historial = api.mentions_timeline(tweet_mode='extended')\n",
    "   #verifica que historial no sea una lista vacia\n",
    "   if len(historial) == 0:\n",
    "      #en caso de que sí, crea el log vacío.\n",
    "      np.save(path+'respuestas.npy', ids)\n",
    "   else:\n",
    "      #en caso de que hayan meciones \n",
    "      for order in historial[::-1]:\n",
    "         aux = execute(order)\n",
    "         if not aux:\n",
    "            pass\n",
    "         else: \n",
    "            ids.append(aux)\n",
    "   #finalmente guardamos el log \n",
    "      np.save(path+'respuestas.npy', ids)\n",
    "   \n",
    "\n",
    "\n",
    "\n",
    "#verificamos si existe un log\n",
    "if not os.path.exists(p1+'respuestas.npy'):\n",
    "   # primer analisis si es que no\n",
    "   first_up(path=p1) \n",
    "else:\n",
    "   # resp cuando ya existe puede ser estar vacio eventualmente\n",
    "   # para nuevas menciones solo se necesita rescatar\n",
    "   # el valor mas reciente de la lista y solo procesará\n",
    "   # nuevas menciones. \n",
    "   resp = np.load(p1+'respuestas.npy',allow_pickle='TRUE').tolist()\n",
    "   if not resp: #podria pasar que resp sea una lista vacia\n",
    "      #en este caso llamamos a la api igual que en first_up\n",
    "      historial = api.mentions_timeline(tweet_mode='extended')\n",
    "      if len(historial)==0:  #si no hay nada, no pasa nada\n",
    "         pass\n",
    "      else:\n",
    "         for order in historial[::-1]:\n",
    "            aux = execute(order)\n",
    "            if aux:\n",
    "               resp.append(aux)\n",
    "            else:\n",
    "               pass\n",
    "   else: \n",
    "      #recuperamos la ultima mención del log para iniciar desde ese id para adelante\n",
    "      #puede darse el caso de que las menciones sean >20 por lo que se deja al bot en bucle\n",
    "      #para q vaya procesando por bloques de 20.\n",
    "      historial = api.mentions_timeline(tweet_mode='extended',since_id=resp[-1])\n",
    "      for order in historial[::-1]:\n",
    "         resp.append(execute(order))   \n",
    "   np.save(p1+'respuestas.npy', resp)"
   ]
  },
  {
   "cell_type": "code",
   "execution_count": 127,
   "metadata": {},
   "outputs": [
    {
     "name": "stdout",
     "output_type": "stream",
     "text": [
      "['1547779084070952964', '1547780686429315074']\n"
     ]
    }
   ],
   "source": [
    "import numpy as np\n",
    "\n",
    "test = np.load('respuestas.npy',allow_pickle='TRUE').tolist()\n",
    "print(test)"
   ]
  },
  {
   "cell_type": "code",
   "execution_count": 106,
   "metadata": {},
   "outputs": [
    {
     "name": "stdout",
     "output_type": "stream",
     "text": [
      "autentificación - Twitter API\n",
      "sesión iniciada\n"
     ]
    }
   ],
   "source": [
    "from twlogin import login\n",
    "from tools import blockclock, precio , btc_supply, hash_rate, fees\n",
    "import numpy as np\n",
    "\n",
    "p1 = ''\n",
    "api = login(path=p1)\t\n",
    "historial = api.mentions_timeline(tweet_mode='extended')"
   ]
  },
  {
   "cell_type": "code",
   "execution_count": 107,
   "metadata": {},
   "outputs": [
    {
     "data": {
      "text/plain": [
       "Status(_api=<tweepy.api.API object at 0x0000019555D25700>, _json={'created_at': 'Fri Jul 15 02:56:49 +0000 2022', 'id': 1547777173573947392, 'id_str': '1547777173573947392', 'full_text': '@elnodobtc @marcel039 @elnodobtc blockclock', 'truncated': False, 'display_text_range': [22, 43], 'entities': {'hashtags': [], 'symbols': [], 'user_mentions': [{'screen_name': 'elnodobtc', 'name': '🇧🇴⚡₿it₿ol-node | in ⌚⛓️7️⃣4️⃣4️⃣7️⃣9️⃣2️⃣', 'id': 1543984303390048256, 'id_str': '1543984303390048256', 'indices': [0, 10]}, {'screen_name': 'marcel039', 'name': '🇦🇷⚡️Marcel 侘寂 Free', 'id': 31786786, 'id_str': '31786786', 'indices': [11, 21]}, {'screen_name': 'elnodobtc', 'name': '🇧🇴⚡₿it₿ol-node | in ⌚⛓️7️⃣4️⃣4️⃣7️⃣9️⃣2️⃣', 'id': 1543984303390048256, 'id_str': '1543984303390048256', 'indices': [22, 32]}], 'urls': []}, 'source': '<a href=\"https://mobile.twitter.com\" rel=\"nofollow\">Twitter Web App</a>', 'in_reply_to_status_id': 1547776594067935232, 'in_reply_to_status_id_str': '1547776594067935232', 'in_reply_to_user_id': 1543984303390048256, 'in_reply_to_user_id_str': '1543984303390048256', 'in_reply_to_screen_name': 'elnodobtc', 'user': {'id': 1416223413052530696, 'id_str': '1416223413052530696', 'name': 'juan.py ⚡', 'screen_name': 'jpcr3spo', 'location': 'Bolivia', 'description': 'Tweets about 👨\\u200d💻, #Python 🐍, #Bitcoin 🌩️, tech & science. /contact: jp.cr3spo@pm.me', 'url': 'https://t.co/THiZn6qLBi', 'entities': {'url': {'urls': [{'url': 'https://t.co/THiZn6qLBi', 'expanded_url': 'https://jpcr3spo.medium.com/', 'display_url': 'jpcr3spo.medium.com', 'indices': [0, 23]}]}, 'description': {'urls': []}}, 'protected': False, 'followers_count': 229, 'friends_count': 767, 'listed_count': 8, 'created_at': 'Sat Jul 17 02:31:50 +0000 2021', 'favourites_count': 5575, 'utc_offset': None, 'time_zone': None, 'geo_enabled': False, 'verified': False, 'statuses_count': 2509, 'lang': None, 'contributors_enabled': False, 'is_translator': False, 'is_translation_enabled': False, 'profile_background_color': 'F5F8FA', 'profile_background_image_url': None, 'profile_background_image_url_https': None, 'profile_background_tile': False, 'profile_image_url': 'http://pbs.twimg.com/profile_images/1542001599773548544/IGCE1vI7_normal.jpg', 'profile_image_url_https': 'https://pbs.twimg.com/profile_images/1542001599773548544/IGCE1vI7_normal.jpg', 'profile_link_color': '1DA1F2', 'profile_sidebar_border_color': 'C0DEED', 'profile_sidebar_fill_color': 'DDEEF6', 'profile_text_color': '333333', 'profile_use_background_image': True, 'has_extended_profile': True, 'default_profile': True, 'default_profile_image': False, 'following': True, 'follow_request_sent': False, 'notifications': False, 'translator_type': 'none', 'withheld_in_countries': []}, 'geo': None, 'coordinates': None, 'place': None, 'contributors': None, 'is_quote_status': False, 'retweet_count': 0, 'favorite_count': 0, 'favorited': False, 'retweeted': False, 'lang': 'en'}, created_at=datetime.datetime(2022, 7, 15, 2, 56, 49, tzinfo=datetime.timezone.utc), id=1547777173573947392, id_str='1547777173573947392', full_text='@elnodobtc @marcel039 @elnodobtc blockclock', truncated=False, display_text_range=[22, 43], entities={'hashtags': [], 'symbols': [], 'user_mentions': [{'screen_name': 'elnodobtc', 'name': '🇧🇴⚡₿it₿ol-node | in ⌚⛓️7️⃣4️⃣4️⃣7️⃣9️⃣2️⃣', 'id': 1543984303390048256, 'id_str': '1543984303390048256', 'indices': [0, 10]}, {'screen_name': 'marcel039', 'name': '🇦🇷⚡️Marcel 侘寂 Free', 'id': 31786786, 'id_str': '31786786', 'indices': [11, 21]}, {'screen_name': 'elnodobtc', 'name': '🇧🇴⚡₿it₿ol-node | in ⌚⛓️7️⃣4️⃣4️⃣7️⃣9️⃣2️⃣', 'id': 1543984303390048256, 'id_str': '1543984303390048256', 'indices': [22, 32]}], 'urls': []}, source='Twitter Web App', source_url='https://mobile.twitter.com', in_reply_to_status_id=1547776594067935232, in_reply_to_status_id_str='1547776594067935232', in_reply_to_user_id=1543984303390048256, in_reply_to_user_id_str='1543984303390048256', in_reply_to_screen_name='elnodobtc', author=User(_api=<tweepy.api.API object at 0x0000019555D25700>, _json={'id': 1416223413052530696, 'id_str': '1416223413052530696', 'name': 'juan.py ⚡', 'screen_name': 'jpcr3spo', 'location': 'Bolivia', 'description': 'Tweets about 👨\\u200d💻, #Python 🐍, #Bitcoin 🌩️, tech & science. /contact: jp.cr3spo@pm.me', 'url': 'https://t.co/THiZn6qLBi', 'entities': {'url': {'urls': [{'url': 'https://t.co/THiZn6qLBi', 'expanded_url': 'https://jpcr3spo.medium.com/', 'display_url': 'jpcr3spo.medium.com', 'indices': [0, 23]}]}, 'description': {'urls': []}}, 'protected': False, 'followers_count': 229, 'friends_count': 767, 'listed_count': 8, 'created_at': 'Sat Jul 17 02:31:50 +0000 2021', 'favourites_count': 5575, 'utc_offset': None, 'time_zone': None, 'geo_enabled': False, 'verified': False, 'statuses_count': 2509, 'lang': None, 'contributors_enabled': False, 'is_translator': False, 'is_translation_enabled': False, 'profile_background_color': 'F5F8FA', 'profile_background_image_url': None, 'profile_background_image_url_https': None, 'profile_background_tile': False, 'profile_image_url': 'http://pbs.twimg.com/profile_images/1542001599773548544/IGCE1vI7_normal.jpg', 'profile_image_url_https': 'https://pbs.twimg.com/profile_images/1542001599773548544/IGCE1vI7_normal.jpg', 'profile_link_color': '1DA1F2', 'profile_sidebar_border_color': 'C0DEED', 'profile_sidebar_fill_color': 'DDEEF6', 'profile_text_color': '333333', 'profile_use_background_image': True, 'has_extended_profile': True, 'default_profile': True, 'default_profile_image': False, 'following': True, 'follow_request_sent': False, 'notifications': False, 'translator_type': 'none', 'withheld_in_countries': []}, id=1416223413052530696, id_str='1416223413052530696', name='juan.py ⚡', screen_name='jpcr3spo', location='Bolivia', description='Tweets about 👨\\u200d💻, #Python 🐍, #Bitcoin 🌩️, tech & science. /contact: jp.cr3spo@pm.me', url='https://t.co/THiZn6qLBi', entities={'url': {'urls': [{'url': 'https://t.co/THiZn6qLBi', 'expanded_url': 'https://jpcr3spo.medium.com/', 'display_url': 'jpcr3spo.medium.com', 'indices': [0, 23]}]}, 'description': {'urls': []}}, protected=False, followers_count=229, friends_count=767, listed_count=8, created_at=datetime.datetime(2021, 7, 17, 2, 31, 50, tzinfo=datetime.timezone.utc), favourites_count=5575, utc_offset=None, time_zone=None, geo_enabled=False, verified=False, statuses_count=2509, lang=None, contributors_enabled=False, is_translator=False, is_translation_enabled=False, profile_background_color='F5F8FA', profile_background_image_url=None, profile_background_image_url_https=None, profile_background_tile=False, profile_image_url='http://pbs.twimg.com/profile_images/1542001599773548544/IGCE1vI7_normal.jpg', profile_image_url_https='https://pbs.twimg.com/profile_images/1542001599773548544/IGCE1vI7_normal.jpg', profile_link_color='1DA1F2', profile_sidebar_border_color='C0DEED', profile_sidebar_fill_color='DDEEF6', profile_text_color='333333', profile_use_background_image=True, has_extended_profile=True, default_profile=True, default_profile_image=False, following=True, follow_request_sent=False, notifications=False, translator_type='none', withheld_in_countries=[]), user=User(_api=<tweepy.api.API object at 0x0000019555D25700>, _json={'id': 1416223413052530696, 'id_str': '1416223413052530696', 'name': 'juan.py ⚡', 'screen_name': 'jpcr3spo', 'location': 'Bolivia', 'description': 'Tweets about 👨\\u200d💻, #Python 🐍, #Bitcoin 🌩️, tech & science. /contact: jp.cr3spo@pm.me', 'url': 'https://t.co/THiZn6qLBi', 'entities': {'url': {'urls': [{'url': 'https://t.co/THiZn6qLBi', 'expanded_url': 'https://jpcr3spo.medium.com/', 'display_url': 'jpcr3spo.medium.com', 'indices': [0, 23]}]}, 'description': {'urls': []}}, 'protected': False, 'followers_count': 229, 'friends_count': 767, 'listed_count': 8, 'created_at': 'Sat Jul 17 02:31:50 +0000 2021', 'favourites_count': 5575, 'utc_offset': None, 'time_zone': None, 'geo_enabled': False, 'verified': False, 'statuses_count': 2509, 'lang': None, 'contributors_enabled': False, 'is_translator': False, 'is_translation_enabled': False, 'profile_background_color': 'F5F8FA', 'profile_background_image_url': None, 'profile_background_image_url_https': None, 'profile_background_tile': False, 'profile_image_url': 'http://pbs.twimg.com/profile_images/1542001599773548544/IGCE1vI7_normal.jpg', 'profile_image_url_https': 'https://pbs.twimg.com/profile_images/1542001599773548544/IGCE1vI7_normal.jpg', 'profile_link_color': '1DA1F2', 'profile_sidebar_border_color': 'C0DEED', 'profile_sidebar_fill_color': 'DDEEF6', 'profile_text_color': '333333', 'profile_use_background_image': True, 'has_extended_profile': True, 'default_profile': True, 'default_profile_image': False, 'following': True, 'follow_request_sent': False, 'notifications': False, 'translator_type': 'none', 'withheld_in_countries': []}, id=1416223413052530696, id_str='1416223413052530696', name='juan.py ⚡', screen_name='jpcr3spo', location='Bolivia', description='Tweets about 👨\\u200d💻, #Python 🐍, #Bitcoin 🌩️, tech & science. /contact: jp.cr3spo@pm.me', url='https://t.co/THiZn6qLBi', entities={'url': {'urls': [{'url': 'https://t.co/THiZn6qLBi', 'expanded_url': 'https://jpcr3spo.medium.com/', 'display_url': 'jpcr3spo.medium.com', 'indices': [0, 23]}]}, 'description': {'urls': []}}, protected=False, followers_count=229, friends_count=767, listed_count=8, created_at=datetime.datetime(2021, 7, 17, 2, 31, 50, tzinfo=datetime.timezone.utc), favourites_count=5575, utc_offset=None, time_zone=None, geo_enabled=False, verified=False, statuses_count=2509, lang=None, contributors_enabled=False, is_translator=False, is_translation_enabled=False, profile_background_color='F5F8FA', profile_background_image_url=None, profile_background_image_url_https=None, profile_background_tile=False, profile_image_url='http://pbs.twimg.com/profile_images/1542001599773548544/IGCE1vI7_normal.jpg', profile_image_url_https='https://pbs.twimg.com/profile_images/1542001599773548544/IGCE1vI7_normal.jpg', profile_link_color='1DA1F2', profile_sidebar_border_color='C0DEED', profile_sidebar_fill_color='DDEEF6', profile_text_color='333333', profile_use_background_image=True, has_extended_profile=True, default_profile=True, default_profile_image=False, following=True, follow_request_sent=False, notifications=False, translator_type='none', withheld_in_countries=[]), geo=None, coordinates=None, place=None, contributors=None, is_quote_status=False, retweet_count=0, favorite_count=0, favorited=False, retweeted=False, lang='en')"
      ]
     },
     "execution_count": 107,
     "metadata": {},
     "output_type": "execute_result"
    }
   ],
   "source": [
    "historial[0]"
   ]
  },
  {
   "cell_type": "code",
   "execution_count": 108,
   "metadata": {},
   "outputs": [],
   "source": [
    "kk =historial[0]._json['user']['screen_name']"
   ]
  },
  {
   "cell_type": "code",
   "execution_count": 109,
   "metadata": {},
   "outputs": [
    {
     "data": {
      "text/plain": [
       "Status(_api=<tweepy.api.API object at 0x0000019555D25700>, _json={'created_at': 'Fri Jul 15 02:57:47 +0000 2022', 'id': 1547777417019764736, 'id_str': '1547777417019764736', 'text': '@jpcr3spo @marcel039 @jpcr3spo jeje', 'truncated': False, 'entities': {'hashtags': [], 'symbols': [], 'user_mentions': [{'screen_name': 'jpcr3spo', 'name': 'juan.py ⚡', 'id': 1416223413052530696, 'id_str': '1416223413052530696', 'indices': [0, 9]}, {'screen_name': 'marcel039', 'name': '🇦🇷⚡️Marcel 侘寂 Free', 'id': 31786786, 'id_str': '31786786', 'indices': [10, 20]}, {'screen_name': 'jpcr3spo', 'name': 'juan.py ⚡', 'id': 1416223413052530696, 'id_str': '1416223413052530696', 'indices': [21, 30]}], 'urls': []}, 'source': '<a href=\"https://www.youtube.com/\" rel=\"nofollow\">bolivian_node</a>', 'in_reply_to_status_id': 1547777173573947392, 'in_reply_to_status_id_str': '1547777173573947392', 'in_reply_to_user_id': 1416223413052530696, 'in_reply_to_user_id_str': '1416223413052530696', 'in_reply_to_screen_name': 'jpcr3spo', 'user': {'id': 1543984303390048256, 'id_str': '1543984303390048256', 'name': '🇧🇴⚡₿it₿ol-node | in ⌚⛓️7️⃣4️⃣4️⃣7️⃣9️⃣2️⃣', 'screen_name': 'elnodobtc', 'location': '', 'description': 'Nodo completo #bitcoin 🤖 Bot en construcción 🚧', 'url': None, 'entities': {'description': {'urls': []}}, 'protected': False, 'followers_count': 1, 'friends_count': 2, 'listed_count': 0, 'created_at': 'Mon Jul 04 15:45:27 +0000 2022', 'favourites_count': 0, 'utc_offset': None, 'time_zone': None, 'geo_enabled': False, 'verified': False, 'statuses_count': 2, 'lang': None, 'contributors_enabled': False, 'is_translator': False, 'is_translation_enabled': False, 'profile_background_color': 'F5F8FA', 'profile_background_image_url': None, 'profile_background_image_url_https': None, 'profile_background_tile': False, 'profile_image_url': 'http://pbs.twimg.com/profile_images/1547088116351209472/jfX7hXDf_normal.jpg', 'profile_image_url_https': 'https://pbs.twimg.com/profile_images/1547088116351209472/jfX7hXDf_normal.jpg', 'profile_banner_url': 'https://pbs.twimg.com/profile_banners/1543984303390048256/1657688765', 'profile_link_color': '1DA1F2', 'profile_sidebar_border_color': 'C0DEED', 'profile_sidebar_fill_color': 'DDEEF6', 'profile_text_color': '333333', 'profile_use_background_image': True, 'has_extended_profile': True, 'default_profile': True, 'default_profile_image': False, 'following': False, 'follow_request_sent': False, 'notifications': False, 'translator_type': 'none', 'withheld_in_countries': []}, 'geo': None, 'coordinates': None, 'place': None, 'contributors': None, 'is_quote_status': False, 'retweet_count': 0, 'favorite_count': 0, 'favorited': False, 'retweeted': False, 'lang': 'es'}, created_at=datetime.datetime(2022, 7, 15, 2, 57, 47, tzinfo=datetime.timezone.utc), id=1547777417019764736, id_str='1547777417019764736', text='@jpcr3spo @marcel039 @jpcr3spo jeje', truncated=False, entities={'hashtags': [], 'symbols': [], 'user_mentions': [{'screen_name': 'jpcr3spo', 'name': 'juan.py ⚡', 'id': 1416223413052530696, 'id_str': '1416223413052530696', 'indices': [0, 9]}, {'screen_name': 'marcel039', 'name': '🇦🇷⚡️Marcel 侘寂 Free', 'id': 31786786, 'id_str': '31786786', 'indices': [10, 20]}, {'screen_name': 'jpcr3spo', 'name': 'juan.py ⚡', 'id': 1416223413052530696, 'id_str': '1416223413052530696', 'indices': [21, 30]}], 'urls': []}, source='bolivian_node', source_url='https://www.youtube.com/', in_reply_to_status_id=1547777173573947392, in_reply_to_status_id_str='1547777173573947392', in_reply_to_user_id=1416223413052530696, in_reply_to_user_id_str='1416223413052530696', in_reply_to_screen_name='jpcr3spo', author=User(_api=<tweepy.api.API object at 0x0000019555D25700>, _json={'id': 1543984303390048256, 'id_str': '1543984303390048256', 'name': '🇧🇴⚡₿it₿ol-node | in ⌚⛓️7️⃣4️⃣4️⃣7️⃣9️⃣2️⃣', 'screen_name': 'elnodobtc', 'location': '', 'description': 'Nodo completo #bitcoin 🤖 Bot en construcción 🚧', 'url': None, 'entities': {'description': {'urls': []}}, 'protected': False, 'followers_count': 1, 'friends_count': 2, 'listed_count': 0, 'created_at': 'Mon Jul 04 15:45:27 +0000 2022', 'favourites_count': 0, 'utc_offset': None, 'time_zone': None, 'geo_enabled': False, 'verified': False, 'statuses_count': 2, 'lang': None, 'contributors_enabled': False, 'is_translator': False, 'is_translation_enabled': False, 'profile_background_color': 'F5F8FA', 'profile_background_image_url': None, 'profile_background_image_url_https': None, 'profile_background_tile': False, 'profile_image_url': 'http://pbs.twimg.com/profile_images/1547088116351209472/jfX7hXDf_normal.jpg', 'profile_image_url_https': 'https://pbs.twimg.com/profile_images/1547088116351209472/jfX7hXDf_normal.jpg', 'profile_banner_url': 'https://pbs.twimg.com/profile_banners/1543984303390048256/1657688765', 'profile_link_color': '1DA1F2', 'profile_sidebar_border_color': 'C0DEED', 'profile_sidebar_fill_color': 'DDEEF6', 'profile_text_color': '333333', 'profile_use_background_image': True, 'has_extended_profile': True, 'default_profile': True, 'default_profile_image': False, 'following': False, 'follow_request_sent': False, 'notifications': False, 'translator_type': 'none', 'withheld_in_countries': []}, id=1543984303390048256, id_str='1543984303390048256', name='🇧🇴⚡₿it₿ol-node | in ⌚⛓️7️⃣4️⃣4️⃣7️⃣9️⃣2️⃣', screen_name='elnodobtc', location='', description='Nodo completo #bitcoin 🤖 Bot en construcción 🚧', url=None, entities={'description': {'urls': []}}, protected=False, followers_count=1, friends_count=2, listed_count=0, created_at=datetime.datetime(2022, 7, 4, 15, 45, 27, tzinfo=datetime.timezone.utc), favourites_count=0, utc_offset=None, time_zone=None, geo_enabled=False, verified=False, statuses_count=2, lang=None, contributors_enabled=False, is_translator=False, is_translation_enabled=False, profile_background_color='F5F8FA', profile_background_image_url=None, profile_background_image_url_https=None, profile_background_tile=False, profile_image_url='http://pbs.twimg.com/profile_images/1547088116351209472/jfX7hXDf_normal.jpg', profile_image_url_https='https://pbs.twimg.com/profile_images/1547088116351209472/jfX7hXDf_normal.jpg', profile_banner_url='https://pbs.twimg.com/profile_banners/1543984303390048256/1657688765', profile_link_color='1DA1F2', profile_sidebar_border_color='C0DEED', profile_sidebar_fill_color='DDEEF6', profile_text_color='333333', profile_use_background_image=True, has_extended_profile=True, default_profile=True, default_profile_image=False, following=False, follow_request_sent=False, notifications=False, translator_type='none', withheld_in_countries=[]), user=User(_api=<tweepy.api.API object at 0x0000019555D25700>, _json={'id': 1543984303390048256, 'id_str': '1543984303390048256', 'name': '🇧🇴⚡₿it₿ol-node | in ⌚⛓️7️⃣4️⃣4️⃣7️⃣9️⃣2️⃣', 'screen_name': 'elnodobtc', 'location': '', 'description': 'Nodo completo #bitcoin 🤖 Bot en construcción 🚧', 'url': None, 'entities': {'description': {'urls': []}}, 'protected': False, 'followers_count': 1, 'friends_count': 2, 'listed_count': 0, 'created_at': 'Mon Jul 04 15:45:27 +0000 2022', 'favourites_count': 0, 'utc_offset': None, 'time_zone': None, 'geo_enabled': False, 'verified': False, 'statuses_count': 2, 'lang': None, 'contributors_enabled': False, 'is_translator': False, 'is_translation_enabled': False, 'profile_background_color': 'F5F8FA', 'profile_background_image_url': None, 'profile_background_image_url_https': None, 'profile_background_tile': False, 'profile_image_url': 'http://pbs.twimg.com/profile_images/1547088116351209472/jfX7hXDf_normal.jpg', 'profile_image_url_https': 'https://pbs.twimg.com/profile_images/1547088116351209472/jfX7hXDf_normal.jpg', 'profile_banner_url': 'https://pbs.twimg.com/profile_banners/1543984303390048256/1657688765', 'profile_link_color': '1DA1F2', 'profile_sidebar_border_color': 'C0DEED', 'profile_sidebar_fill_color': 'DDEEF6', 'profile_text_color': '333333', 'profile_use_background_image': True, 'has_extended_profile': True, 'default_profile': True, 'default_profile_image': False, 'following': False, 'follow_request_sent': False, 'notifications': False, 'translator_type': 'none', 'withheld_in_countries': []}, id=1543984303390048256, id_str='1543984303390048256', name='🇧🇴⚡₿it₿ol-node | in ⌚⛓️7️⃣4️⃣4️⃣7️⃣9️⃣2️⃣', screen_name='elnodobtc', location='', description='Nodo completo #bitcoin 🤖 Bot en construcción 🚧', url=None, entities={'description': {'urls': []}}, protected=False, followers_count=1, friends_count=2, listed_count=0, created_at=datetime.datetime(2022, 7, 4, 15, 45, 27, tzinfo=datetime.timezone.utc), favourites_count=0, utc_offset=None, time_zone=None, geo_enabled=False, verified=False, statuses_count=2, lang=None, contributors_enabled=False, is_translator=False, is_translation_enabled=False, profile_background_color='F5F8FA', profile_background_image_url=None, profile_background_image_url_https=None, profile_background_tile=False, profile_image_url='http://pbs.twimg.com/profile_images/1547088116351209472/jfX7hXDf_normal.jpg', profile_image_url_https='https://pbs.twimg.com/profile_images/1547088116351209472/jfX7hXDf_normal.jpg', profile_banner_url='https://pbs.twimg.com/profile_banners/1543984303390048256/1657688765', profile_link_color='1DA1F2', profile_sidebar_border_color='C0DEED', profile_sidebar_fill_color='DDEEF6', profile_text_color='333333', profile_use_background_image=True, has_extended_profile=True, default_profile=True, default_profile_image=False, following=False, follow_request_sent=False, notifications=False, translator_type='none', withheld_in_countries=[]), geo=None, coordinates=None, place=None, contributors=None, is_quote_status=False, retweet_count=0, favorite_count=0, favorited=False, retweeted=False, lang='es')"
      ]
     },
     "execution_count": 109,
     "metadata": {},
     "output_type": "execute_result"
    }
   ],
   "source": [
    "api.update_status(status='@'+kk+' jeje',in_reply_to_status_id=historial[0]._json['id_str'],auto_populate_reply_metadata=True)\n"
   ]
  }
 ],
 "metadata": {
  "kernelspec": {
   "display_name": "Python 3.8.5 ('base')",
   "language": "python",
   "name": "python3"
  },
  "language_info": {
   "codemirror_mode": {
    "name": "ipython",
    "version": 3
   },
   "file_extension": ".py",
   "mimetype": "text/x-python",
   "name": "python",
   "nbconvert_exporter": "python",
   "pygments_lexer": "ipython3",
   "version": "3.8.5"
  },
  "orig_nbformat": 4,
  "vscode": {
   "interpreter": {
    "hash": "a04f5d07b0747026a8fbcdf50b9443318e69b1b8bd6247d88bfadb4789282972"
   }
  }
 },
 "nbformat": 4,
 "nbformat_minor": 2
}
